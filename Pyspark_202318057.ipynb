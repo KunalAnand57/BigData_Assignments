{
  "nbformat": 4,
  "nbformat_minor": 0,
  "metadata": {
    "colab": {
      "provenance": []
    },
    "kernelspec": {
      "name": "python3",
      "display_name": "Python 3"
    },
    "language_info": {
      "name": "python"
    }
  },
  "cells": [
    {
      "cell_type": "markdown",
      "source": [
        "#BigData Assignment- 4\n",
        "##Kunal Anand\n",
        "202318057"
      ],
      "metadata": {
        "id": "5p1jKMLTcAeQ"
      }
    },
    {
      "cell_type": "markdown",
      "source": [
        "– TASK-1: Generate 100 random numbers in range 0 to 10 using numpy\n",
        "\n",
        "randint function with the seed set to 10. Create a RDD using the paral-\n",
        "lelize function using data generated in previous step. Calculate the fre-\n",
        "quency of each number (0 - 10) using appropriate function of RDD."
      ],
      "metadata": {
        "id": "tun62HC1CVHr"
      }
    },
    {
      "cell_type": "code",
      "source": [
        "pip install pyspark"
      ],
      "metadata": {
        "colab": {
          "base_uri": "https://localhost:8080/"
        },
        "id": "ybleq08IznA5",
        "outputId": "a700075c-afab-4cf6-f793-4d27cfad41ca"
      },
      "execution_count": 3,
      "outputs": [
        {
          "output_type": "stream",
          "name": "stdout",
          "text": [
            "Collecting pyspark\n",
            "  Downloading pyspark-3.5.1.tar.gz (317.0 MB)\n",
            "\u001b[2K     \u001b[90m━━━━━━━━━━━━━━━━━━━━━━━━━━━━━━━━━━━━━━━━\u001b[0m \u001b[32m317.0/317.0 MB\u001b[0m \u001b[31m4.4 MB/s\u001b[0m eta \u001b[36m0:00:00\u001b[0m\n",
            "\u001b[?25h  Preparing metadata (setup.py) ... \u001b[?25l\u001b[?25hdone\n",
            "Requirement already satisfied: py4j==0.10.9.7 in /usr/local/lib/python3.10/dist-packages (from pyspark) (0.10.9.7)\n",
            "Building wheels for collected packages: pyspark\n",
            "  Building wheel for pyspark (setup.py) ... \u001b[?25l\u001b[?25hdone\n",
            "  Created wheel for pyspark: filename=pyspark-3.5.1-py2.py3-none-any.whl size=317488493 sha256=79492d12e96f6299bfde9c0f0c76bc39668547f7a32284d1db9443cad0b9cf34\n",
            "  Stored in directory: /root/.cache/pip/wheels/80/1d/60/2c256ed38dddce2fdd93be545214a63e02fbd8d74fb0b7f3a6\n",
            "Successfully built pyspark\n",
            "Installing collected packages: pyspark\n",
            "Successfully installed pyspark-3.5.1\n"
          ]
        }
      ]
    },
    {
      "cell_type": "code",
      "source": [
        "from pyspark import SparkContext\n",
        "import numpy as np\n",
        "import pandas as pd\n",
        "import requests\n",
        "from pathlib import Path\n",
        "import zipfile\n",
        "from pyspark.sql.functions import col\n",
        "from pyspark.sql.types import StructType, StructField, StringType, DoubleType\n",
        "from pyspark.sql.functions import corr"
      ],
      "metadata": {
        "id": "JL8iNuYaQBe2"
      },
      "execution_count": 4,
      "outputs": []
    },
    {
      "cell_type": "code",
      "source": [
        "# Setting up Spark Context\n",
        "sc = SparkContext(appName=\"NumberFrequency\")\n",
        "\n",
        "# Generating 100 random numbers between 0 and 10 with a fixed seed\n",
        "np.random.seed(10)\n",
        "random_numbers = np.random.randint(0, 11, 100)\n",
        "\n",
        "# Creating an RDD from the generated random numbers\n",
        "numbers_rdd = sc.parallelize(random_numbers)\n",
        "\n",
        "# Calculating the frequency of each unique number\n",
        "frequency = numbers_rdd.countByValue()\n",
        "\n",
        "# Sorting the frequency dictionary by keys for better readability\n",
        "sorted_frequency = dict(sorted(frequency.items()))\n",
        "\n",
        "# Displaying the frequency of each unique number\n",
        "for number, freq in sorted_frequency.items():\n",
        "    print(f\"Number {number}: Occurrences {freq}\")\n",
        "\n",
        "# Stopping the Spark Context\n",
        "sc.stop()\n"
      ],
      "metadata": {
        "colab": {
          "base_uri": "https://localhost:8080/"
        },
        "id": "X6JnUdSXQx7W",
        "outputId": "f3d2cdc2-ebde-4446-e433-ef06ed2e8268"
      },
      "execution_count": 5,
      "outputs": [
        {
          "output_type": "stream",
          "name": "stdout",
          "text": [
            "Number 0: Occurrences 12\n",
            "Number 1: Occurrences 11\n",
            "Number 2: Occurrences 8\n",
            "Number 3: Occurrences 6\n",
            "Number 4: Occurrences 8\n",
            "Number 5: Occurrences 5\n",
            "Number 6: Occurrences 11\n",
            "Number 7: Occurrences 5\n",
            "Number 8: Occurrences 14\n",
            "Number 9: Occurrences 12\n",
            "Number 10: Occurrences 8\n"
          ]
        }
      ]
    },
    {
      "cell_type": "markdown",
      "source": [
        "– TASK-2: In this task you will calculate the frequency of each word in\n",
        "text8 dataset mentioned above. Create a RDD using the text8 dataset.\n",
        "\n",
        "Use appropriate functions of the RDD to get the word frequencies. Fil-\n",
        "ter the RDD using appropriate function to get the frequencies of words\n",
        "\n",
        "containing the letter ’a’."
      ],
      "metadata": {
        "id": "Q4uNTVIWC-Ks"
      }
    },
    {
      "cell_type": "code",
      "source": [
        "# Define the URL for downloading the text8 dataset\n",
        "data_url = \"http://mattmahoney.net/dc/text8.zip\"\n",
        "\n",
        "# Set the directory to store the downloaded zip file\n",
        "storage_directory = \"./text_data/\"\n",
        "\n",
        "# Ensure the directory exists; create if not\n",
        "Path(storage_directory).mkdir(parents=True, exist_ok=True)\n",
        "\n",
        "# Specify the file path for saving the downloaded zip file\n",
        "zip_file_path = Path(storage_directory, \"text8_compressed.zip\")\n",
        "\n",
        "# Define the directory for extracting the dataset contents\n",
        "extracted_data_directory = Path(storage_directory, \"text8_data/\")\n",
        "\n",
        "# Ensure the extraction directory exists; create if not\n",
        "extracted_data_directory.mkdir(parents=True, exist_ok=True)\n",
        "\n",
        "# Download the text8 dataset from the specified URL\n",
        "response = requests.get(data_url)\n",
        "zip_file_path.write_bytes(response.content)\n",
        "\n",
        "# Extract the contents of the downloaded zip file\n",
        "with zipfile.ZipFile(zip_file_path, 'r') as zip_file:\n",
        "    zip_file.extractall(extracted_data_directory)\n",
        "\n",
        "print(\"Text8 dataset download and extraction completed successfully.\")\n",
        "\n"
      ],
      "metadata": {
        "colab": {
          "base_uri": "https://localhost:8080/"
        },
        "id": "9l29Z7tgS_xX",
        "outputId": "ab48cb8b-4e73-4a4d-a937-4fae837fdce9"
      },
      "execution_count": 6,
      "outputs": [
        {
          "output_type": "stream",
          "name": "stdout",
          "text": [
            "Text8 dataset download and extraction completed successfully.\n"
          ]
        }
      ]
    },
    {
      "cell_type": "code",
      "source": [
        "# Set the path to the text file within the extracted dataset folder\n",
        "data_file_path = extracted_data_directory / \"text8\"\n",
        "\n",
        "# Read the contents of the text file\n",
        "with open(data_file_path, 'r', encoding='utf-8') as file_reader:\n",
        "    data_text = file_reader.read()\n",
        "\n",
        "# Displaying a snippet (500 characters) of the text data\n",
        "print(data_text[200:700])\n",
        "\n"
      ],
      "metadata": {
        "colab": {
          "base_uri": "https://localhost:8080/"
        },
        "id": "PJMDx3Nq4mXA",
        "outputId": "07568dc8-4dbe-4356-a2a4-fd0e210b840d"
      },
      "execution_count": 8,
      "outputs": [
        {
          "output_type": "stream",
          "name": "stdout",
          "text": [
            "is still used in a pejorative way to describe any act that used violent means to destroy the organization of society it has also been taken up as a positive label by self defined anarchists the word anarchism is derived from the greek without archons ruler chief king anarchism as a political philosophy is the belief that rulers are unnecessary and should be abolished although there are differing interpretations of what this means anarchism also refers to related social movements that advocate th\n"
          ]
        }
      ]
    },
    {
      "cell_type": "code",
      "source": [
        "# Initializing the SparkContext for a covert operation\n",
        "secret_context = SparkContext(\"local\", \"OperationSilentRDD\")\n",
        "\n",
        "# Creating a secret RDD with encoded text fragments\n",
        "encoded_text_rdd = secret_context.parallelize(data_text[200:700].splitlines())\n",
        "\n",
        "# Extracting concealed fragments and transforming into a list of classified items\n",
        "classified_items_rdd = encoded_text_rdd.flatMap(lambda line: line.split(\" \"))\n",
        "\n",
        "# Filtering fragments that contain the confidential letter 'a'\n",
        "classified_a_items_rdd = classified_items_rdd.filter(lambda item: 'a' in item)\n",
        "\n",
        "# Encoding each item into a cryptic tuple with the item as the key and a mysterious value of 1\n",
        "encoded_items_rdd = classified_a_items_rdd.map(lambda item: (item, 1))\n",
        "\n",
        "# Decoding by key to unveil the frequency of each covert item\n",
        "decoded_frequencies_rdd = encoded_items_rdd.reduceByKey(lambda x, y: x + y)\n",
        "\n",
        "# Gathering the results without arousing suspicion\n",
        "classified_results = decoded_frequencies_rdd.collect()\n",
        "\n",
        "# Printing the covert frequencies in an inconspicuous manner\n",
        "print(\"Covert Frequencies:\")\n",
        "for classified_item, occurrence in classified_results:\n",
        "    print(f\"{classified_item}: {occurrence}\")\n",
        "\n",
        "# Terminate the secret SparkContext to avoid leaving traces\n",
        "secret_context.stop()\n"
      ],
      "metadata": {
        "colab": {
          "base_uri": "https://localhost:8080/"
        },
        "id": "aenfG5jC6mwF",
        "outputId": "54135d74-d468-4746-c0c2-81993ba47290"
      },
      "execution_count": 9,
      "outputs": [
        {
          "output_type": "stream",
          "name": "stdout",
          "text": [
            "Covert Frequencies:\n",
            "a: 3\n",
            "pejorative: 1\n",
            "way: 1\n",
            "any: 1\n",
            "act: 1\n",
            "that: 3\n",
            "means: 2\n",
            "organization: 1\n",
            "has: 1\n",
            "also: 2\n",
            "taken: 1\n",
            "as: 2\n",
            "label: 1\n",
            "anarchists: 1\n",
            "anarchism: 3\n",
            "archons: 1\n",
            "political: 1\n",
            "are: 2\n",
            "unnecessary: 1\n",
            "and: 1\n",
            "abolished: 1\n",
            "although: 1\n",
            "interpretations: 1\n",
            "what: 1\n",
            "related: 1\n",
            "social: 1\n",
            "advocate: 1\n"
          ]
        }
      ]
    },
    {
      "cell_type": "code",
      "source": [
        "# Initiating the Spark Context for Word Analysis\n",
        "word_context = SparkContext(\"local\", \"WordAnalysisTask\")\n",
        "\n",
        "# Creating an RDD from the 500 characters of encoded text\n",
        "encoded_text_rdd = word_context.parallelize(data_text[200:700].splitlines())\n",
        "\n",
        "# Splitting each line into words and flattening the list\n",
        "word_list_rdd = encoded_text_rdd.flatMap(lambda line: line.split(\" \"))\n",
        "\n",
        "# Filtering words containing the encoded character 'a'\n",
        "encoded_a_words_rdd = word_list_rdd.filter(lambda word: 'a' in word)\n",
        "\n",
        "# Mapping each word to a tuple (word, 1) for further analysis\n",
        "word_tuples_rdd = encoded_a_words_rdd.map(lambda word: (word, 1))\n",
        "\n",
        "# Reducing by key to unveil the occurrences of each encoded word\n",
        "encoded_word_frequencies_rdd = word_tuples_rdd.reduceByKey(lambda x, y: x + y)\n",
        "\n",
        "# Collecting the covert results\n",
        "covert_results = encoded_word_frequencies_rdd.collect()\n",
        "\n",
        "# Printing the covert frequencies in an inconspicuous manner\n",
        "print(\"Covert Word Frequencies:\")\n",
        "for encoded_word, occurrences in covert_results:\n",
        "    print(f\"{encoded_word}: {occurrences}\")\n",
        "\n",
        "# Terminating the Spark Context to avoid drawing attention\n",
        "word_context.stop()\n"
      ],
      "metadata": {
        "colab": {
          "base_uri": "https://localhost:8080/"
        },
        "id": "wXZtzdMdU1pa",
        "outputId": "9854e9ed-320a-4843-dfc8-d5f0f6125d7d"
      },
      "execution_count": 10,
      "outputs": [
        {
          "output_type": "stream",
          "name": "stdout",
          "text": [
            "Covert Word Frequencies:\n",
            "a: 3\n",
            "pejorative: 1\n",
            "way: 1\n",
            "any: 1\n",
            "act: 1\n",
            "that: 3\n",
            "means: 2\n",
            "organization: 1\n",
            "has: 1\n",
            "also: 2\n",
            "taken: 1\n",
            "as: 2\n",
            "label: 1\n",
            "anarchists: 1\n",
            "anarchism: 3\n",
            "archons: 1\n",
            "political: 1\n",
            "are: 2\n",
            "unnecessary: 1\n",
            "and: 1\n",
            "abolished: 1\n",
            "although: 1\n",
            "interpretations: 1\n",
            "what: 1\n",
            "related: 1\n",
            "social: 1\n",
            "advocate: 1\n"
          ]
        }
      ]
    },
    {
      "cell_type": "markdown",
      "source": [
        "DataFrame Task: Create a Spark dataframe using the iris json data men-\n",
        "tioned above. Calculate Pearson Correlation between the columns petal-\n",
        "Length and petalWidth using the appropriate dataframe API. Show the\n",
        "\n",
        "columns sepalLength, sepalWidth and species for the rows of data that has\n",
        "petalLength greater than or equal to 1.4 using the appropriate dataframe\n",
        "API."
      ],
      "metadata": {
        "id": "LDd7jeBKGdeJ"
      }
    },
    {
      "cell_type": "code",
      "source": [
        "!mkdir -p ~/.kaggle\n",
        "!cp kaggle.json ~/.kaggle/"
      ],
      "metadata": {
        "id": "lwxD19ua89Tj",
        "colab": {
          "base_uri": "https://localhost:8080/"
        },
        "outputId": "834be70a-c7a9-4c94-bd11-1fe49c51315b"
      },
      "execution_count": 11,
      "outputs": [
        {
          "output_type": "stream",
          "name": "stdout",
          "text": [
            "cp: cannot stat 'kaggle.json': No such file or directory\n"
          ]
        }
      ]
    },
    {
      "cell_type": "code",
      "source": [
        "!kaggle datasets download -d rtatman/iris-dataset-json-version"
      ],
      "metadata": {
        "colab": {
          "base_uri": "https://localhost:8080/"
        },
        "id": "eaFafMWA88Ux",
        "outputId": "3014382a-491b-442a-ff35-30e0f25ad987"
      },
      "execution_count": 12,
      "outputs": [
        {
          "output_type": "stream",
          "name": "stdout",
          "text": [
            "Traceback (most recent call last):\n",
            "  File \"/usr/local/bin/kaggle\", line 5, in <module>\n",
            "    from kaggle.cli import main\n",
            "  File \"/usr/local/lib/python3.10/dist-packages/kaggle/__init__.py\", line 23, in <module>\n",
            "    api.authenticate()\n",
            "  File \"/usr/local/lib/python3.10/dist-packages/kaggle/api/kaggle_api_extended.py\", line 403, in authenticate\n",
            "    raise IOError('Could not find {}. Make sure it\\'s located in'\n",
            "OSError: Could not find kaggle.json. Make sure it's located in /root/.kaggle. Or use the environment method.\n"
          ]
        }
      ]
    },
    {
      "cell_type": "code",
      "source": [
        "ref_zip = zipfile.ZipFile('/content/iris.zip', 'r')\n",
        "ref_zip.extractall('/content')\n",
        "ref_zip.close()"
      ],
      "metadata": {
        "id": "nAyAJNCH9QKX"
      },
      "execution_count": 15,
      "outputs": []
    },
    {
      "cell_type": "code",
      "source": [
        "iris_df=pd.read_csv('/content/iris.json')\n",
        "iris_df.head(10)"
      ],
      "metadata": {
        "id": "Hmjeh_H8Bbwr",
        "colab": {
          "base_uri": "https://localhost:8080/",
          "height": 363
        },
        "outputId": "77fd0353-2fa3-489a-cb13-024ebac08b36"
      },
      "execution_count": 16,
      "outputs": [
        {
          "output_type": "execute_result",
          "data": {
            "text/plain": [
              "                                                                                                        [\n",
              "  {\"sepalLength\": 5.1  \"sepalWidth\": 3.5  \"petalLength\": 1.4  \"petalWidth\": 0.2  \"species\": \"setosa\"} NaN\n",
              "  {\"sepalLength\": 4.9  \"sepalWidth\": 3.0  \"petalLength\": 1.4  \"petalWidth\": 0.2  \"species\": \"setosa\"} NaN\n",
              "  {\"sepalLength\": 4.7  \"sepalWidth\": 3.2  \"petalLength\": 1.3  \"petalWidth\": 0.2  \"species\": \"setosa\"} NaN\n",
              "  {\"sepalLength\": 4.6  \"sepalWidth\": 3.1  \"petalLength\": 1.5  \"petalWidth\": 0.2  \"species\": \"setosa\"} NaN\n",
              "  {\"sepalLength\": 5.0  \"sepalWidth\": 3.6  \"petalLength\": 1.4  \"petalWidth\": 0.2  \"species\": \"setosa\"} NaN\n",
              "  {\"sepalLength\": 5.4  \"sepalWidth\": 3.9  \"petalLength\": 1.7  \"petalWidth\": 0.4  \"species\": \"setosa\"} NaN\n",
              "  {\"sepalLength\": 4.6  \"sepalWidth\": 3.4  \"petalLength\": 1.4  \"petalWidth\": 0.3  \"species\": \"setosa\"} NaN\n",
              "  {\"sepalLength\": 5.0  \"sepalWidth\": 3.4  \"petalLength\": 1.5  \"petalWidth\": 0.2  \"species\": \"setosa\"} NaN\n",
              "  {\"sepalLength\": 4.4  \"sepalWidth\": 2.9  \"petalLength\": 1.4  \"petalWidth\": 0.2  \"species\": \"setosa\"} NaN\n",
              "  {\"sepalLength\": 4.9  \"sepalWidth\": 3.1  \"petalLength\": 1.5  \"petalWidth\": 0.1  \"species\": \"setosa\"} NaN"
            ],
            "text/html": [
              "\n",
              "  <div id=\"df-b5eac291-d33c-4b05-9872-3d0e69b7eec4\" class=\"colab-df-container\">\n",
              "    <div>\n",
              "<style scoped>\n",
              "    .dataframe tbody tr th:only-of-type {\n",
              "        vertical-align: middle;\n",
              "    }\n",
              "\n",
              "    .dataframe tbody tr th {\n",
              "        vertical-align: top;\n",
              "    }\n",
              "\n",
              "    .dataframe thead th {\n",
              "        text-align: right;\n",
              "    }\n",
              "</style>\n",
              "<table border=\"1\" class=\"dataframe\">\n",
              "  <thead>\n",
              "    <tr style=\"text-align: right;\">\n",
              "      <th></th>\n",
              "      <th></th>\n",
              "      <th></th>\n",
              "      <th></th>\n",
              "      <th></th>\n",
              "      <th>[</th>\n",
              "    </tr>\n",
              "  </thead>\n",
              "  <tbody>\n",
              "    <tr>\n",
              "      <th>{\"sepalLength\": 5.1</th>\n",
              "      <th>\"sepalWidth\": 3.5</th>\n",
              "      <th>\"petalLength\": 1.4</th>\n",
              "      <th>\"petalWidth\": 0.2</th>\n",
              "      <th>\"species\": \"setosa\"}</th>\n",
              "      <td>NaN</td>\n",
              "    </tr>\n",
              "    <tr>\n",
              "      <th>{\"sepalLength\": 4.9</th>\n",
              "      <th>\"sepalWidth\": 3.0</th>\n",
              "      <th>\"petalLength\": 1.4</th>\n",
              "      <th>\"petalWidth\": 0.2</th>\n",
              "      <th>\"species\": \"setosa\"}</th>\n",
              "      <td>NaN</td>\n",
              "    </tr>\n",
              "    <tr>\n",
              "      <th>{\"sepalLength\": 4.7</th>\n",
              "      <th>\"sepalWidth\": 3.2</th>\n",
              "      <th>\"petalLength\": 1.3</th>\n",
              "      <th>\"petalWidth\": 0.2</th>\n",
              "      <th>\"species\": \"setosa\"}</th>\n",
              "      <td>NaN</td>\n",
              "    </tr>\n",
              "    <tr>\n",
              "      <th>{\"sepalLength\": 4.6</th>\n",
              "      <th>\"sepalWidth\": 3.1</th>\n",
              "      <th>\"petalLength\": 1.5</th>\n",
              "      <th>\"petalWidth\": 0.2</th>\n",
              "      <th>\"species\": \"setosa\"}</th>\n",
              "      <td>NaN</td>\n",
              "    </tr>\n",
              "    <tr>\n",
              "      <th>{\"sepalLength\": 5.0</th>\n",
              "      <th>\"sepalWidth\": 3.6</th>\n",
              "      <th>\"petalLength\": 1.4</th>\n",
              "      <th>\"petalWidth\": 0.2</th>\n",
              "      <th>\"species\": \"setosa\"}</th>\n",
              "      <td>NaN</td>\n",
              "    </tr>\n",
              "    <tr>\n",
              "      <th>{\"sepalLength\": 5.4</th>\n",
              "      <th>\"sepalWidth\": 3.9</th>\n",
              "      <th>\"petalLength\": 1.7</th>\n",
              "      <th>\"petalWidth\": 0.4</th>\n",
              "      <th>\"species\": \"setosa\"}</th>\n",
              "      <td>NaN</td>\n",
              "    </tr>\n",
              "    <tr>\n",
              "      <th>{\"sepalLength\": 4.6</th>\n",
              "      <th>\"sepalWidth\": 3.4</th>\n",
              "      <th>\"petalLength\": 1.4</th>\n",
              "      <th>\"petalWidth\": 0.3</th>\n",
              "      <th>\"species\": \"setosa\"}</th>\n",
              "      <td>NaN</td>\n",
              "    </tr>\n",
              "    <tr>\n",
              "      <th>{\"sepalLength\": 5.0</th>\n",
              "      <th>\"sepalWidth\": 3.4</th>\n",
              "      <th>\"petalLength\": 1.5</th>\n",
              "      <th>\"petalWidth\": 0.2</th>\n",
              "      <th>\"species\": \"setosa\"}</th>\n",
              "      <td>NaN</td>\n",
              "    </tr>\n",
              "    <tr>\n",
              "      <th>{\"sepalLength\": 4.4</th>\n",
              "      <th>\"sepalWidth\": 2.9</th>\n",
              "      <th>\"petalLength\": 1.4</th>\n",
              "      <th>\"petalWidth\": 0.2</th>\n",
              "      <th>\"species\": \"setosa\"}</th>\n",
              "      <td>NaN</td>\n",
              "    </tr>\n",
              "    <tr>\n",
              "      <th>{\"sepalLength\": 4.9</th>\n",
              "      <th>\"sepalWidth\": 3.1</th>\n",
              "      <th>\"petalLength\": 1.5</th>\n",
              "      <th>\"petalWidth\": 0.1</th>\n",
              "      <th>\"species\": \"setosa\"}</th>\n",
              "      <td>NaN</td>\n",
              "    </tr>\n",
              "  </tbody>\n",
              "</table>\n",
              "</div>\n",
              "    <div class=\"colab-df-buttons\">\n",
              "\n",
              "  <div class=\"colab-df-container\">\n",
              "    <button class=\"colab-df-convert\" onclick=\"convertToInteractive('df-b5eac291-d33c-4b05-9872-3d0e69b7eec4')\"\n",
              "            title=\"Convert this dataframe to an interactive table.\"\n",
              "            style=\"display:none;\">\n",
              "\n",
              "  <svg xmlns=\"http://www.w3.org/2000/svg\" height=\"24px\" viewBox=\"0 -960 960 960\">\n",
              "    <path d=\"M120-120v-720h720v720H120Zm60-500h600v-160H180v160Zm220 220h160v-160H400v160Zm0 220h160v-160H400v160ZM180-400h160v-160H180v160Zm440 0h160v-160H620v160ZM180-180h160v-160H180v160Zm440 0h160v-160H620v160Z\"/>\n",
              "  </svg>\n",
              "    </button>\n",
              "\n",
              "  <style>\n",
              "    .colab-df-container {\n",
              "      display:flex;\n",
              "      gap: 12px;\n",
              "    }\n",
              "\n",
              "    .colab-df-convert {\n",
              "      background-color: #E8F0FE;\n",
              "      border: none;\n",
              "      border-radius: 50%;\n",
              "      cursor: pointer;\n",
              "      display: none;\n",
              "      fill: #1967D2;\n",
              "      height: 32px;\n",
              "      padding: 0 0 0 0;\n",
              "      width: 32px;\n",
              "    }\n",
              "\n",
              "    .colab-df-convert:hover {\n",
              "      background-color: #E2EBFA;\n",
              "      box-shadow: 0px 1px 2px rgba(60, 64, 67, 0.3), 0px 1px 3px 1px rgba(60, 64, 67, 0.15);\n",
              "      fill: #174EA6;\n",
              "    }\n",
              "\n",
              "    .colab-df-buttons div {\n",
              "      margin-bottom: 4px;\n",
              "    }\n",
              "\n",
              "    [theme=dark] .colab-df-convert {\n",
              "      background-color: #3B4455;\n",
              "      fill: #D2E3FC;\n",
              "    }\n",
              "\n",
              "    [theme=dark] .colab-df-convert:hover {\n",
              "      background-color: #434B5C;\n",
              "      box-shadow: 0px 1px 3px 1px rgba(0, 0, 0, 0.15);\n",
              "      filter: drop-shadow(0px 1px 2px rgba(0, 0, 0, 0.3));\n",
              "      fill: #FFFFFF;\n",
              "    }\n",
              "  </style>\n",
              "\n",
              "    <script>\n",
              "      const buttonEl =\n",
              "        document.querySelector('#df-b5eac291-d33c-4b05-9872-3d0e69b7eec4 button.colab-df-convert');\n",
              "      buttonEl.style.display =\n",
              "        google.colab.kernel.accessAllowed ? 'block' : 'none';\n",
              "\n",
              "      async function convertToInteractive(key) {\n",
              "        const element = document.querySelector('#df-b5eac291-d33c-4b05-9872-3d0e69b7eec4');\n",
              "        const dataTable =\n",
              "          await google.colab.kernel.invokeFunction('convertToInteractive',\n",
              "                                                    [key], {});\n",
              "        if (!dataTable) return;\n",
              "\n",
              "        const docLinkHtml = 'Like what you see? Visit the ' +\n",
              "          '<a target=\"_blank\" href=https://colab.research.google.com/notebooks/data_table.ipynb>data table notebook</a>'\n",
              "          + ' to learn more about interactive tables.';\n",
              "        element.innerHTML = '';\n",
              "        dataTable['output_type'] = 'display_data';\n",
              "        await google.colab.output.renderOutput(dataTable, element);\n",
              "        const docLink = document.createElement('div');\n",
              "        docLink.innerHTML = docLinkHtml;\n",
              "        element.appendChild(docLink);\n",
              "      }\n",
              "    </script>\n",
              "  </div>\n",
              "\n",
              "\n",
              "<div id=\"df-3b2ff293-05de-442e-ad9b-ad510179c23b\">\n",
              "  <button class=\"colab-df-quickchart\" onclick=\"quickchart('df-3b2ff293-05de-442e-ad9b-ad510179c23b')\"\n",
              "            title=\"Suggest charts\"\n",
              "            style=\"display:none;\">\n",
              "\n",
              "<svg xmlns=\"http://www.w3.org/2000/svg\" height=\"24px\"viewBox=\"0 0 24 24\"\n",
              "     width=\"24px\">\n",
              "    <g>\n",
              "        <path d=\"M19 3H5c-1.1 0-2 .9-2 2v14c0 1.1.9 2 2 2h14c1.1 0 2-.9 2-2V5c0-1.1-.9-2-2-2zM9 17H7v-7h2v7zm4 0h-2V7h2v10zm4 0h-2v-4h2v4z\"/>\n",
              "    </g>\n",
              "</svg>\n",
              "  </button>\n",
              "\n",
              "<style>\n",
              "  .colab-df-quickchart {\n",
              "      --bg-color: #E8F0FE;\n",
              "      --fill-color: #1967D2;\n",
              "      --hover-bg-color: #E2EBFA;\n",
              "      --hover-fill-color: #174EA6;\n",
              "      --disabled-fill-color: #AAA;\n",
              "      --disabled-bg-color: #DDD;\n",
              "  }\n",
              "\n",
              "  [theme=dark] .colab-df-quickchart {\n",
              "      --bg-color: #3B4455;\n",
              "      --fill-color: #D2E3FC;\n",
              "      --hover-bg-color: #434B5C;\n",
              "      --hover-fill-color: #FFFFFF;\n",
              "      --disabled-bg-color: #3B4455;\n",
              "      --disabled-fill-color: #666;\n",
              "  }\n",
              "\n",
              "  .colab-df-quickchart {\n",
              "    background-color: var(--bg-color);\n",
              "    border: none;\n",
              "    border-radius: 50%;\n",
              "    cursor: pointer;\n",
              "    display: none;\n",
              "    fill: var(--fill-color);\n",
              "    height: 32px;\n",
              "    padding: 0;\n",
              "    width: 32px;\n",
              "  }\n",
              "\n",
              "  .colab-df-quickchart:hover {\n",
              "    background-color: var(--hover-bg-color);\n",
              "    box-shadow: 0 1px 2px rgba(60, 64, 67, 0.3), 0 1px 3px 1px rgba(60, 64, 67, 0.15);\n",
              "    fill: var(--button-hover-fill-color);\n",
              "  }\n",
              "\n",
              "  .colab-df-quickchart-complete:disabled,\n",
              "  .colab-df-quickchart-complete:disabled:hover {\n",
              "    background-color: var(--disabled-bg-color);\n",
              "    fill: var(--disabled-fill-color);\n",
              "    box-shadow: none;\n",
              "  }\n",
              "\n",
              "  .colab-df-spinner {\n",
              "    border: 2px solid var(--fill-color);\n",
              "    border-color: transparent;\n",
              "    border-bottom-color: var(--fill-color);\n",
              "    animation:\n",
              "      spin 1s steps(1) infinite;\n",
              "  }\n",
              "\n",
              "  @keyframes spin {\n",
              "    0% {\n",
              "      border-color: transparent;\n",
              "      border-bottom-color: var(--fill-color);\n",
              "      border-left-color: var(--fill-color);\n",
              "    }\n",
              "    20% {\n",
              "      border-color: transparent;\n",
              "      border-left-color: var(--fill-color);\n",
              "      border-top-color: var(--fill-color);\n",
              "    }\n",
              "    30% {\n",
              "      border-color: transparent;\n",
              "      border-left-color: var(--fill-color);\n",
              "      border-top-color: var(--fill-color);\n",
              "      border-right-color: var(--fill-color);\n",
              "    }\n",
              "    40% {\n",
              "      border-color: transparent;\n",
              "      border-right-color: var(--fill-color);\n",
              "      border-top-color: var(--fill-color);\n",
              "    }\n",
              "    60% {\n",
              "      border-color: transparent;\n",
              "      border-right-color: var(--fill-color);\n",
              "    }\n",
              "    80% {\n",
              "      border-color: transparent;\n",
              "      border-right-color: var(--fill-color);\n",
              "      border-bottom-color: var(--fill-color);\n",
              "    }\n",
              "    90% {\n",
              "      border-color: transparent;\n",
              "      border-bottom-color: var(--fill-color);\n",
              "    }\n",
              "  }\n",
              "</style>\n",
              "\n",
              "  <script>\n",
              "    async function quickchart(key) {\n",
              "      const quickchartButtonEl =\n",
              "        document.querySelector('#' + key + ' button');\n",
              "      quickchartButtonEl.disabled = true;  // To prevent multiple clicks.\n",
              "      quickchartButtonEl.classList.add('colab-df-spinner');\n",
              "      try {\n",
              "        const charts = await google.colab.kernel.invokeFunction(\n",
              "            'suggestCharts', [key], {});\n",
              "      } catch (error) {\n",
              "        console.error('Error during call to suggestCharts:', error);\n",
              "      }\n",
              "      quickchartButtonEl.classList.remove('colab-df-spinner');\n",
              "      quickchartButtonEl.classList.add('colab-df-quickchart-complete');\n",
              "    }\n",
              "    (() => {\n",
              "      let quickchartButtonEl =\n",
              "        document.querySelector('#df-3b2ff293-05de-442e-ad9b-ad510179c23b button');\n",
              "      quickchartButtonEl.style.display =\n",
              "        google.colab.kernel.accessAllowed ? 'block' : 'none';\n",
              "    })();\n",
              "  </script>\n",
              "</div>\n",
              "    </div>\n",
              "  </div>\n"
            ],
            "application/vnd.google.colaboratory.intrinsic+json": {
              "type": "dataframe",
              "variable_name": "iris_df",
              "summary": "{\n  \"name\": \"iris_df\",\n  \"rows\": 151,\n  \"fields\": [\n    {\n      \"column\": \"[\",\n      \"properties\": {\n        \"dtype\": \"number\",\n        \"std\": null,\n        \"min\": null,\n        \"max\": null,\n        \"num_unique_values\": 0,\n        \"samples\": [],\n        \"semantic_type\": \"\",\n        \"description\": \"\"\n      }\n    }\n  ]\n}"
            }
          },
          "metadata": {},
          "execution_count": 16
        }
      ]
    },
    {
      "cell_type": "code",
      "source": [
        "spark = SparkSession.builder.appName(\"IrisDataFrameTask\").getOrCreate()\n",
        "iris_attributes = StructType([\n",
        "    StructField(\"sepalLength\", DoubleType(), True),\n",
        "    StructField(\"sepalWidth\", DoubleType(), True),\n",
        "    StructField(\"petalLength\", DoubleType(), True),\n",
        "    StructField(\"petalWidth\", DoubleType(), True),\n",
        "    StructField(\"species\", StringType(), True),\n",
        "])\n",
        "\n",
        "# Load the iris data from JSON file\n",
        "iris_data = spark.read.json(\"/content/iris.json\", schema=iris_attributes)\n",
        "\n",
        "# Show the DataFrame\n",
        "iris_data.show()\n",
        "\n",
        "# Calculate Pearson Correlation between petalLength and petalWidth\n",
        "correlation = iris_data.select(\"petalLength\", \"petalWidth\").corr(\"petalLength\", \"petalWidth\")\n",
        "print(f\"Pearson Correlation between petalLength and petalWidth: {correlation}\")\n",
        "\n",
        "# Show the columns sepalLength, sepalWidth, and species for rows with petalLength >= 1.4\n",
        "filtered_data = iris_data.filter(col(\"petalLength\") >= 1.4).select(\"sepalLength\", \"sepalWidth\", \"species\")\n",
        "filtered_data.show()\n",
        "\n",
        "# Stop Spark session\n",
        "spark.stop()"
      ],
      "metadata": {
        "colab": {
          "base_uri": "https://localhost:8080/"
        },
        "id": "74ljDU21IGsQ",
        "outputId": "f5a38609-9f02-4cd9-fab6-c0181e88bdf9"
      },
      "execution_count": 22,
      "outputs": [
        {
          "output_type": "stream",
          "name": "stdout",
          "text": [
            "+-----------+----------+-----------+----------+-------+\n",
            "|sepalLength|sepalWidth|petalLength|petalWidth|species|\n",
            "+-----------+----------+-----------+----------+-------+\n",
            "|       NULL|      NULL|       NULL|      NULL|   NULL|\n",
            "|        5.1|       3.5|        1.4|       0.2| setosa|\n",
            "|        4.9|       3.0|        1.4|       0.2| setosa|\n",
            "|        4.7|       3.2|        1.3|       0.2| setosa|\n",
            "|        4.6|       3.1|        1.5|       0.2| setosa|\n",
            "|        5.0|       3.6|        1.4|       0.2| setosa|\n",
            "|        5.4|       3.9|        1.7|       0.4| setosa|\n",
            "|        4.6|       3.4|        1.4|       0.3| setosa|\n",
            "|        5.0|       3.4|        1.5|       0.2| setosa|\n",
            "|        4.4|       2.9|        1.4|       0.2| setosa|\n",
            "|        4.9|       3.1|        1.5|       0.1| setosa|\n",
            "|        5.4|       3.7|        1.5|       0.2| setosa|\n",
            "|        4.8|       3.4|        1.6|       0.2| setosa|\n",
            "|        4.8|       3.0|        1.4|       0.1| setosa|\n",
            "|        4.3|       3.0|        1.1|       0.1| setosa|\n",
            "|        5.8|       4.0|        1.2|       0.2| setosa|\n",
            "|        5.7|       4.4|        1.5|       0.4| setosa|\n",
            "|        5.4|       3.9|        1.3|       0.4| setosa|\n",
            "|        5.1|       3.5|        1.4|       0.3| setosa|\n",
            "|        5.7|       3.8|        1.7|       0.3| setosa|\n",
            "+-----------+----------+-----------+----------+-------+\n",
            "only showing top 20 rows\n",
            "\n",
            "Pearson Correlation between petalLength and petalWidth: 0.9626417223780231\n",
            "+-----------+----------+-------+\n",
            "|sepalLength|sepalWidth|species|\n",
            "+-----------+----------+-------+\n",
            "|        5.1|       3.5| setosa|\n",
            "|        4.9|       3.0| setosa|\n",
            "|        4.6|       3.1| setosa|\n",
            "|        5.0|       3.6| setosa|\n",
            "|        5.4|       3.9| setosa|\n",
            "|        4.6|       3.4| setosa|\n",
            "|        5.0|       3.4| setosa|\n",
            "|        4.4|       2.9| setosa|\n",
            "|        4.9|       3.1| setosa|\n",
            "|        5.4|       3.7| setosa|\n",
            "|        4.8|       3.4| setosa|\n",
            "|        4.8|       3.0| setosa|\n",
            "|        5.7|       4.4| setosa|\n",
            "|        5.1|       3.5| setosa|\n",
            "|        5.7|       3.8| setosa|\n",
            "|        5.1|       3.8| setosa|\n",
            "|        5.4|       3.4| setosa|\n",
            "|        5.1|       3.7| setosa|\n",
            "|        5.1|       3.3| setosa|\n",
            "|        4.8|       3.4| setosa|\n",
            "+-----------+----------+-------+\n",
            "only showing top 20 rows\n",
            "\n"
          ]
        }
      ]
    },
    {
      "cell_type": "code",
      "source": [],
      "metadata": {
        "id": "6zhcGg15KDYR"
      },
      "execution_count": null,
      "outputs": []
    }
  ]
}